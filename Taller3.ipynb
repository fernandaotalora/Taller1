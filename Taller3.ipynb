{
 "cells": [
  {
   "cell_type": "markdown",
   "metadata": {},
   "source": [
    "# Taller 3 Matriz TF-IDF con libreria de python"
   ]
  },
  {
   "cell_type": "raw",
   "metadata": {},
   "source": [
    "Authors: \n",
    "Fernanda Otalora 865100607\n",
    "Yurany Cortes    865100603     "
   ]
  },
  {
   "cell_type": "markdown",
   "metadata": {},
   "source": [
    "Se procesan inicialmente todos los archivos que tienen las noticias."
   ]
  },
  {
   "cell_type": "code",
   "execution_count": 1,
   "metadata": {
    "collapsed": true
   },
   "outputs": [],
   "source": [
    "%matplotlib inline"
   ]
  },
  {
   "cell_type": "code",
   "execution_count": 1,
   "metadata": {},
   "outputs": [
    {
     "name": "stdout",
     "output_type": "stream",
     "text": [
      "  (0, 895)\t0.404223610255\n",
      "  (0, 3940)\t0.0791191796266\n",
      "  (0, 1056)\t0.0410551125488\n",
      "  (0, 5077)\t0.0558597255823\n",
      "  (0, 2379)\t0.036922128237\n",
      "  (0, 5217)\t0.0533646040368\n",
      "  (0, 1453)\t0.0518007340265\n",
      "  (0, 2245)\t0.0518007340265\n",
      "  (0, 3593)\t0.0439412158129\n",
      "  (0, 922)\t0.0466015813751\n",
      "  (0, 3070)\t0.0504785007728\n",
      "  (0, 2631)\t0.0414736120169\n",
      "  (0, 3905)\t0.0533646040368\n",
      "  (0, 4248)\t0.221114504962\n",
      "  (0, 4020)\t0.0427059327616\n",
      "  (0, 5079)\t0.0451686686811\n",
      "  (0, 1458)\t0.0533646040368\n",
      "  (0, 3368)\t0.0675747665704\n",
      "  (0, 2832)\t0.0466015813751\n",
      "  (0, 2576)\t0.0374421382106\n",
      "  (0, 5192)\t0.0356534202027\n",
      "  (0, 1566)\t0.0336140938034\n",
      "  (0, 1785)\t0.0865893702405\n",
      "  (0, 2526)\t0.115492460073\n",
      "  (0, 2755)\t0.0379957198029\n",
      "  :\t:\n",
      "  (924, 2367)\t0.0629522266893\n",
      "  (924, 3417)\t0.119738475222\n",
      "  (924, 4050)\t0.0805313095164\n",
      "  (924, 4953)\t0.115592531015\n",
      "  (924, 760)\t0.0739607773751\n",
      "  (924, 4752)\t0.0599326708463\n",
      "  (924, 2577)\t0.0799766498864\n",
      "  (924, 2870)\t0.0978393980368\n",
      "  (924, 4290)\t0.0864480899647\n",
      "  (924, 4310)\t0.100943215783\n",
      "  (924, 4893)\t0.10467162067\n",
      "  (924, 1666)\t0.112205047946\n",
      "  (924, 4978)\t0.157829325378\n",
      "  (924, 5202)\t0.0789146626888\n",
      "  (924, 2843)\t0.0764983122704\n",
      "  (924, 1029)\t0.100943215783\n",
      "  (924, 3671)\t0.257068886483\n",
      "  (924, 3616)\t0.119738475222\n",
      "  (924, 4999)\t0.577962655076\n",
      "  (924, 212)\t0.346777593046\n",
      "  (924, 352)\t0.23118506203\n",
      "  (924, 1919)\t0.119738475222\n",
      "  (924, 1886)\t0.125083526936\n",
      "  (924, 3001)\t0.125083526936\n",
      "  (924, 2272)\t0.125083526936\n",
      " ------ Tiempo de ejecucion 1.5198109149932861 -----------\n"
     ]
    }
   ],
   "source": [
    "import time\n",
    "import re\n",
    "import math\n",
    "\n",
    "from bs4 import BeautifulSoup   \n",
    "from sklearn.feature_extraction.text import TfidfVectorizer\n",
    "\n",
    "start_time = time.time()\n",
    "\n",
    "# Abrir el archivo inicial y tomar el documento html.\n",
    "\n",
    "archivo = open(\"archivosinicial2/reut2-000.sgm\", \"r\")\n",
    "soup1  = BeautifulSoup(archivo, 'html.parser')\n",
    "\n",
    "archivo.close()\n",
    "documentos = []\n",
    "logTerm=[]\n",
    "documentos = soup1.find_all('reuters')\n",
    "#Arregla el archivo para quitar caracteres especiales, numeros, etc\n",
    "#para dejar los datos listos para el llamado a la libreria\n",
    "fileRaw = open(\"archivoprocesado2/raw.txt\", \"w\")\n",
    "logTerm=[]\n",
    "for i in range(len(documentos)):\n",
    "        try:          \n",
    "            cadena = documentos[i].title.string.replace('\\n',' ')+\" \"+documentos[i].body.string.replace('\\n',' ')\n",
    "           \n",
    "            cadena=documentos[i].title.string + \"@@,\"+ documentos[i].body.string +\"@@;\" \n",
    "            cadena = cadena.lower()  \n",
    "            cadena = re.sub(r'<.*>|[0-9]|[,*$]|[.*$]|[-*$]|[(.*)$]|[/*$]|[\"*$]|[\\'][a-z|\\W]|[+*$]|[:*$]',\" \",cadena) \n",
    "            cadena = cadena.replace(' reuter','') \n",
    "            cadena= cadena.replace('\\n','')\n",
    "            cadena=cadena.replace('@@;','');\n",
    "            cadena=cadena.replace('@@','');\n",
    "            cadena= cadena.replace('\\x03','')\n",
    "            logTerm.append(cadena)  \n",
    "            \n",
    "            fileRaw.write(cadena+\"\\n\")             \n",
    "        except:\n",
    "            pass   \n",
    "#calcula lingitud para ingreso a la funcion de tfidf\n",
    "nlen= len(logTerm)\n",
    "#Vectoriza a partir del listado creadi con las noticias\n",
    "vectorizer = TfidfVectorizer(max_df=0.95, min_df=2, max_features=None,\n",
    "                             stop_words='english')\n",
    "tfidf = vectorizer.fit_transform(logTerm[:nlen])\n",
    "filetfidf=open(\"archivoprocesado2/filetfidf.txt\", \"w\")\n",
    "print(tfidf) \n",
    "filetfidf.write(str(tfidf))\n",
    "fileRaw.close()\n",
    "filetfidf.close()\n",
    "print(\" ------ Tiempo de ejecucion %s -----------\" % (time.time()-start_time))   \n",
    "   \n"
   ]
  },
  {
   "cell_type": "code",
   "execution_count": null,
   "metadata": {
    "collapsed": true
   },
   "outputs": [],
   "source": []
  },
  {
   "cell_type": "code",
   "execution_count": null,
   "metadata": {
    "collapsed": true
   },
   "outputs": [],
   "source": []
  }
 ],
 "metadata": {
  "kernelspec": {
   "display_name": "Python 3",
   "language": "python",
   "name": "python3"
  },
  "language_info": {
   "codemirror_mode": {
    "name": "ipython",
    "version": 3
   },
   "file_extension": ".py",
   "mimetype": "text/x-python",
   "name": "python",
   "nbconvert_exporter": "python",
   "pygments_lexer": "ipython3",
   "version": "3.6.3"
  }
 },
 "nbformat": 4,
 "nbformat_minor": 2
}
