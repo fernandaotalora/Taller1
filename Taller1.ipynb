{
 "cells": [
  {
   "cell_type": "markdown",
   "metadata": {},
   "source": [
    "# Inicio del Proyecto"
   ]
  },
  {
   "cell_type": "code",
   "execution_count": 1,
   "metadata": {},
   "outputs": [
    {
     "ename": "KeyboardInterrupt",
     "evalue": "",
     "output_type": "error",
     "traceback": [
      "\u001b[1;31m---------------------------------------------------------------------------\u001b[0m",
      "\u001b[1;31mKeyboardInterrupt\u001b[0m                         Traceback (most recent call last)",
      "\u001b[1;32m<ipython-input-1-7c3378a5bff2>\u001b[0m in \u001b[0;36m<module>\u001b[1;34m()\u001b[0m\n\u001b[0;32m     56\u001b[0m     \u001b[1;32mfor\u001b[0m \u001b[0mk\u001b[0m \u001b[1;32min\u001b[0m \u001b[0mrange\u001b[0m\u001b[1;33m(\u001b[0m\u001b[0mlen\u001b[0m\u001b[1;33m(\u001b[0m\u001b[0mdictionary\u001b[0m\u001b[1;33m)\u001b[0m\u001b[1;33m)\u001b[0m\u001b[1;33m:\u001b[0m\u001b[1;33m\u001b[0m\u001b[0m\n\u001b[0;32m     57\u001b[0m         \u001b[0mlines\u001b[0m\u001b[1;33m.\u001b[0m\u001b[0mcount\u001b[0m\u001b[1;33m(\u001b[0m\u001b[0mdictionary\u001b[0m\u001b[1;33m[\u001b[0m\u001b[0mk\u001b[0m\u001b[1;33m]\u001b[0m\u001b[1;33m)\u001b[0m\u001b[1;33m\u001b[0m\u001b[0m\n\u001b[1;32m---> 58\u001b[1;33m         \u001b[0mdn\u001b[0m \u001b[1;33m=\u001b[0m \u001b[0mdn\u001b[0m\u001b[1;33m+\u001b[0m\u001b[1;34m\",\"\u001b[0m\u001b[1;33m+\u001b[0m\u001b[0mstr\u001b[0m\u001b[1;33m(\u001b[0m\u001b[0mlines\u001b[0m\u001b[1;33m.\u001b[0m\u001b[0mcount\u001b[0m\u001b[1;33m(\u001b[0m\u001b[0mdictionary\u001b[0m\u001b[1;33m[\u001b[0m\u001b[0mk\u001b[0m\u001b[1;33m]\u001b[0m\u001b[1;33m)\u001b[0m\u001b[1;33m)\u001b[0m\u001b[1;33m\u001b[0m\u001b[0m\n\u001b[0m\u001b[0;32m     59\u001b[0m \u001b[1;33m\u001b[0m\u001b[0m\n\u001b[0;32m     60\u001b[0m     \u001b[0mvectorSpace\u001b[0m\u001b[1;33m.\u001b[0m\u001b[0mwrite\u001b[0m\u001b[1;33m(\u001b[0m\u001b[0mdn\u001b[0m\u001b[1;33m+\u001b[0m\u001b[1;34m\"\\n\"\u001b[0m\u001b[1;33m)\u001b[0m\u001b[1;33m\u001b[0m\u001b[0m\n",
      "\u001b[1;31mKeyboardInterrupt\u001b[0m: "
     ]
    }
   ],
   "source": [
    "import re\n",
    "from bs4 import BeautifulSoup\n",
    "\n",
    "# Abrir el archivo inicial y tomar el documento html\n",
    "archivo = open(\"archivosinicial/reut2-000.sgm\", \"r\")\n",
    "soup1  = BeautifulSoup(archivo, 'html.parser')\n",
    "archivo.close()\n",
    "\n",
    "#Tomar todos las etiquetas reuters\n",
    "documentos = []\n",
    "documentos = soup1.find_all('reuters')\n",
    "\n",
    "#leer archivo de stopwords, el cual tiene una sola linea con todas las palabras\n",
    "#separa por ';', las palabras se guardan en un array\n",
    "words = []\n",
    "stopwords = open(\"archivosinicial/stopwords.txt\", \"r\")\n",
    "dato = stopwords.readline()\n",
    "words = dato.split(';')\n",
    "stopwords.close()\n",
    "\n",
    "# Se crea el archivo para guardar los documentos.\n",
    "archivoProcesado = open(\"archivoprocesado/reut2-000.sgm\", \"w\")\n",
    "\n",
    "# Se lee cada documento tomando la etiqueta title y body,se concatena en una sola cadena quitando \n",
    "# saltos de linea, esa cadena se convierte a minuscula, se aplican patron para quitar caracteres \n",
    "# y stopwords, la linea depurada se guarda en el archivo.\n",
    "for i in range(len(documentos)):\n",
    "    try:          \n",
    "        cadena = documentos[i].title.string.replace('\\n',' ')+\" \"+documentos[i].body.string.replace('\\n',' ')\n",
    "        cadena = cadena.lower()\n",
    "        cadena = cadena.replace(' reuter','') \n",
    "        cadena = re.sub(r'<.*>|[0-9]|[,*$]|[.*$]|[-*$]|[(.*)$]|[/*$]|[\"*$]|[\\'][a-z|\\W]|[+*$]|[:*$]',\" \",cadena)        \n",
    "        for j in range(len(words)):                                    \n",
    "            cadena = re.sub(\" \"+words[j]+\" \",\" \",cadena)\n",
    "        archivoProcesado.write(cadena+\"\\n\")                   \n",
    "    except:\n",
    "        pass        \n",
    "    \n",
    "archivoProcesado.close()\n",
    "\n",
    "#Se define un patron para hacer split en lo que no sea caracteres alfanumericos\n",
    "#y se obtiene el diccionario de palabras y se aplica la funcion set para quitar duplicados\n",
    "pattern = re.compile(r'\\W+')\n",
    "\n",
    "fileWords = open(\"archivoprocesado/reut2-000.sgm\", \"r\")\n",
    "dictionary = pattern.split(fileWords.read())\n",
    "dictionary = list(set(dictionary))\n",
    "fileWords.close()\n",
    "\n",
    "\n",
    "#Crear el Vector Space Model\n",
    "vectorSpace = open(\"archivoprocesado/vector.txt\", \"w\")\n",
    "dn = \"\"\n",
    "fileFinally = open(\"archivoprocesado/reut2-000.sgm\", \"r\")\n",
    "for lines in fileFinally.readlines():\n",
    "    for k in range(len(dictionary)):\n",
    "        lines.count(dictionary[k])\n",
    "        dn = dn+\",\"+str(lines.count(dictionary[k]))\n",
    "        \n",
    "    vectorSpace.write(dn+\"\\n\")\n",
    "            \n",
    "        \n",
    "\n",
    "fileFinally.close()        \n",
    "vectorSpace.close()\n",
    "\n",
    "\n",
    "\n",
    "\n",
    "\n",
    "\n",
    "\n",
    "\n",
    "\n"
   ]
  }
 ],
 "metadata": {
  "kernelspec": {
   "display_name": "Python 3",
   "language": "python",
   "name": "python3"
  },
  "language_info": {
   "codemirror_mode": {
    "name": "ipython",
    "version": 3
   },
   "file_extension": ".py",
   "mimetype": "text/x-python",
   "name": "python",
   "nbconvert_exporter": "python",
   "pygments_lexer": "ipython3",
   "version": "3.6.3"
  }
 },
 "nbformat": 4,
 "nbformat_minor": 2
}
