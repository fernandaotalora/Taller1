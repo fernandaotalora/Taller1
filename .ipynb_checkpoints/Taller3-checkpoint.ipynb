{
 "cells": [
  {
   "cell_type": "markdown",
   "metadata": {},
   "source": [
    "# Taller 3 Matriz TF-IDF con libreria de python"
   ]
  },
  {
   "cell_type": "raw",
   "metadata": {},
   "source": [
    "Authors: \n",
    "Fernanda Otalora 865100607\n",
    "Yurany Cortes    865100603     "
   ]
  },
  {
   "cell_type": "markdown",
   "metadata": {},
   "source": [
    "Se procesan inicialmente todos los archivos que tienen las noticias."
   ]
  },
  {
   "cell_type": "code",
   "execution_count": 1,
   "metadata": {
    "collapsed": true
   },
   "outputs": [],
   "source": [
    "%matplotlib inline"
   ]
  },
  {
   "cell_type": "code",
   "execution_count": null,
   "metadata": {},
   "outputs": [],
   "source": [
    "import time\n",
    "import re\n",
    "import math\n",
    "\n",
    "from bs4 import BeautifulSoup   \n",
    "from sklearn.feature_extraction.text import TfidfVectorizer\n",
    "\n",
    "start_time = time.time()\n",
    "\n",
    "# Abrir el archivo inicial y tomar el documento html.\n",
    "\n",
    "archivo = open(\"archivosinicial2/reut2-000.sgm\", \"r\")\n",
    "soup1  = BeautifulSoup(archivo, 'html.parser')\n",
    "\n",
    "archivo.close()\n",
    "documentos = []\n",
    "logTerm=[]\n",
    "documentos = soup1.find_all('reuters')\n",
    "\n",
    "fileRaw = open(\"archivoprocesado2/raw.txt\", \"w\")\n",
    "logTerm=[]\n",
    "for i in range(len(documentos)):\n",
    "        try:          \n",
    "            cadena = documentos[i].title.string.replace('\\n',' ')+\" \"+documentos[i].body.string.replace('\\n',' ')\n",
    "           \n",
    "            cadena=documentos[i].title.string + \"@@,\"+ documentos[i].body.string +\"@@;\" \n",
    "            cadena = cadena.lower()  \n",
    "            cadena = re.sub(r'<.*>|[0-9]|[,*$]|[.*$]|[-*$]|[(.*)$]|[/*$]|[\"*$]|[\\'][a-z|\\W]|[+*$]|[:*$]',\" \",cadena) \n",
    "            cadena = cadena.replace(' reuter','') \n",
    "            cadena= cadena.replace('\\n','')\n",
    "            cadena=cadena.replace('@@;','');\n",
    "            cadena=cadena.replace('@@','');\n",
    "            cadena= cadena.replace('\\x03','')\n",
    "            logTerm.append(cadena)  \n",
    "            \n",
    "            fileRaw.write(cadena+\"\\n\")             \n",
    "        except:\n",
    "            pass   \n",
    "\n",
    "nlen= len(logTerm)\n",
    "\n",
    "vectorizer = TfidfVectorizer(max_df=0.95, min_df=2, max_features=None,\n",
    "                             stop_words='english')\n",
    "tfidf = vectorizer.fit_transform(logTerm[:nlen])\n",
    "filetfidf=open(\"archivoprocesado2/filetfidf.txt\", \"w\")\n",
    "print(tfidf) \n",
    "filetfidf.write(tfidf)\n",
    "fileRaw.close()\n"
   ]
  },
  {
   "cell_type": "code",
   "execution_count": null,
   "metadata": {
    "collapsed": true
   },
   "outputs": [],
   "source": []
  },
  {
   "cell_type": "code",
   "execution_count": null,
   "metadata": {
    "collapsed": true
   },
   "outputs": [],
   "source": []
  }
 ],
 "metadata": {
  "kernelspec": {
   "display_name": "Python 3",
   "language": "python",
   "name": "python3"
  },
  "language_info": {
   "codemirror_mode": {
    "name": "ipython",
    "version": 3
   },
   "file_extension": ".py",
   "mimetype": "text/x-python",
   "name": "python",
   "nbconvert_exporter": "python",
   "pygments_lexer": "ipython3",
   "version": "3.6.3"
  }
 },
 "nbformat": 4,
 "nbformat_minor": 2
}
